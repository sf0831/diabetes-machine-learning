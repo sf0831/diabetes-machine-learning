{
  "cells": [
    {
      "cell_type": "code",
      "source": [
        "# Data preprocessing\n",
        "from sklearn.datasets import load_diabetes\n",
        "import pandas as pd\n",
        "import matplotlib.pyplot as plt\n",
        "import numpy as np\n",
        "diabetes = load_diabetes()\n",
        "\n",
        "features = diabetes.feature_names\n",
        "print(\"Feature Names: \",diabetes.feature_names, '\\n')\n",
        "#print(diabetes.DESCR)\n",
        "\n",
        "X = pd.DataFrame(diabetes.data, columns=diabetes.feature_names)\n",
        "y = pd.DataFrame(diabetes.target)\n",
        "print(X.head(), '\\n\\n', y.head())\n",
        "\n",
        "print(\"\\nData Shape: \", X.shape, y.shape)\n",
        "print(\"\\nData types: \\n\", X.dtypes, '\\n\\n\\n',y.dtypes )"
      ],
      "outputs": [
        {
          "output_type": "stream",
          "name": "stdout",
          "text": "Feature Names:  ['age', 'sex', 'bmi', 'bp', 's1', 's2', 's3', 's4', 's5', 's6'] \n\n        age       sex       bmi        bp        s1        s2        s3  \\\n0  0.038076  0.050680  0.061696  0.021872 -0.044223 -0.034821 -0.043401   \n1 -0.001882 -0.044642 -0.051474 -0.026328 -0.008449 -0.019163  0.074412   \n2  0.085299  0.050680  0.044451 -0.005670 -0.045599 -0.034194 -0.032356   \n3 -0.089063 -0.044642 -0.011595 -0.036656  0.012191  0.024991 -0.036038   \n4  0.005383 -0.044642 -0.036385  0.021872  0.003935  0.015596  0.008142   \n\n         s4        s5        s6  \n0 -0.002592  0.019907 -0.017646  \n1 -0.039493 -0.068332 -0.092204  \n2 -0.002592  0.002861 -0.025930  \n3  0.034309  0.022688 -0.009362  \n4 -0.002592 -0.031988 -0.046641   \n\n        0\n0  151.0\n1   75.0\n2  141.0\n3  206.0\n4  135.0\n\nData Shape:  (442, 10) (442, 1)\n\nData types: \n age    float64\nsex    float64\nbmi    float64\nbp     float64\ns1     float64\ns2     float64\ns3     float64\ns4     float64\ns5     float64\ns6     float64\ndtype: object \n\n\n 0    float64\ndtype: object\n"
        }
      ],
      "execution_count": 1,
      "metadata": {
        "colab": {
          "base_uri": "https://localhost:8080/",
          "height": 0
        },
        "id": "ad520ace",
        "outputId": "9319f968-2abb-453a-e310-59543fc63092"
      },
      "id": "ad520ace"
    },
    {
      "cell_type": "code",
      "source": [
        "# printting the number of unique values of each\n",
        "print(\"\\nName of the feature and their unique values:\")\n",
        "for i in diabetes.feature_names:\n",
        "    #pd.unique(X[i])\n",
        "    print([i], X[i].nunique())\n",
        "\n",
        "\n",
        "# missing values\n",
        "missing_values = X.isnull().sum(axis=0)\n",
        "print(\"\\nMissing values for input data set: \\n\",missing_values)\n",
        "\n",
        "# missing values in the target dataset\n",
        "missing_values = y.isnull().sum(axis=0)\n",
        "print(\"\\nMissing values for target data set\\n\",missing_values)"
      ],
      "outputs": [
        {
          "output_type": "stream",
          "name": "stdout",
          "text": "\nName of the feature and their unique values:\n['age'] 58\n['sex'] 2\n['bmi'] 163\n['bp'] 100\n['s1'] 141\n['s2'] 302\n['s3'] 63\n['s4'] 66\n['s5'] 184\n['s6'] 56\n\nMissing values for input data set: \n age    0\nsex    0\nbmi    0\nbp     0\ns1     0\ns2     0\ns3     0\ns4     0\ns5     0\ns6     0\ndtype: int64\n\nMissing values for target data set\n 0    0\ndtype: int64\n"
        }
      ],
      "execution_count": 2,
      "metadata": {
        "colab": {
          "base_uri": "https://localhost:8080/",
          "height": 0
        },
        "id": "7ccf2bbc",
        "outputId": "3259cfd4-cc65-4ef9-de97-1413a946fb91"
      },
      "id": "7ccf2bbc"
    },
    {
      "cell_type": "code",
      "source": [
        "#splitting the data into train and test\n",
        "from sklearn.model_selection import train_test_split\n",
        "x_train, x_test, y_train, y_test = train_test_split(X, y, test_size=0.2, random_state=10)\n",
        "print(x_train.shape, y_train.shape, x_test.shape, y_test.shape)"
      ],
      "outputs": [
        {
          "output_type": "stream",
          "name": "stdout",
          "text": "(353, 10) (353, 1) (89, 10) (89, 1)\n"
        }
      ],
      "execution_count": 3,
      "metadata": {
        "colab": {
          "base_uri": "https://localhost:8080/",
          "height": 0
        },
        "id": "0439d9f1",
        "outputId": "0225a9fb-a99d-4561-ad1f-4d12d33417f9"
      },
      "id": "0439d9f1"
    },
    {
      "cell_type": "code",
      "source": [
        "class Linear_regression:\n",
        "    def __init__(self, learning_rate=0.001, n_iter=750, bias=True):\n",
        "        self.learning_rate = learning_rate\n",
        "        self.n_iter = n_iter\n",
        "        self.bias = bias\n",
        "        self.weights = None\n",
        "        self.losses = []\n",
        "\n",
        "    def fit(self, X, y):\n",
        "        if self.bias:\n",
        "            # Add a column of ones for the bias term\n",
        "            ones = np.ones((X.shape[0], 1))\n",
        "            X = np.append(ones, X, axis=1)  # Append a column of ones to X\n",
        "\n",
        "        n_samples, n_features = X.shape\n",
        "        self.weights = np.zeros((n_features, 1))\n",
        "\n",
        "        for i in range(self.n_iter):\n",
        "            y_pred = np.dot(X, self.weights)\n",
        "            gradient = (-2 / n_samples) * np.dot(X.T, (y - y_pred))\n",
        "            self.weights -= gradient * self.learning_rate\n",
        "            mse_loss = np.mean((y_pred - y) ** 2, axis=0)\n",
        "            self.losses.append(mse_loss)\n",
        "\n",
        "    def predict(self, X):\n",
        "        if self.bias:\n",
        "            ones = np.ones((X.shape[0], 1))\n",
        "            X = np.append(ones, X, axis=1)  # Append a column of ones to X\n",
        "        return np.dot(X, self.weights)\n"
      ],
      "outputs": [],
      "execution_count": 4,
      "metadata": {
        "id": "36472aa6"
      },
      "id": "36472aa6"
    },
    {
      "cell_type": "code",
      "source": [
        "# applying the class to the two model, one with bias and one without bias\n",
        "model1 = Linear_regression(bias=True, learning_rate = 0.5, n_iter = 750)\n",
        "model1.fit(x_train,y_train)\n",
        "print(\"Model1 weights (with bias): \\n\", model1.weights)\n",
        "print(\"Model1 losses (with bias):\\n\", [model1.losses[i] for i in range(5)])\n",
        "#print(\"Model1 losses (with bias):\\n\", model1.losses)\n",
        "#print(\"Predictions: \\n\", model1.predict(x_train))\n",
        "print(\"Predictions: \\n\", [model1.losses[i] for i in range(5)])"
      ],
      "outputs": [
        {
          "output_type": "stream",
          "name": "stdout",
          "text": "Model1 weights (with bias): \n [[ 152.03069133]\n [  27.93376452]\n [-154.35674642]\n [ 446.65810027]\n [ 287.15065237]\n [ -24.21178495]\n [ -81.72069566]\n [-209.43762743]\n [ 146.40390536]\n [ 363.10313137]\n [ 108.47049999]]\nModel1 losses (with bias):\n [0    29229.688385\ndtype: float64, 0    5803.447841\ndtype: float64, 0    5764.903284\ndtype: float64, 0    5726.993858\ndtype: float64, 0    5689.708322\ndtype: float64]\nPredictions: \n [0    29229.688385\ndtype: float64, 0    5803.447841\ndtype: float64, 0    5764.903284\ndtype: float64, 0    5726.993858\ndtype: float64, 0    5689.708322\ndtype: float64]\n"
        }
      ],
      "execution_count": 5,
      "metadata": {
        "colab": {
          "base_uri": "https://localhost:8080/",
          "height": 0
        },
        "id": "9a53d79c",
        "outputId": "59273116-0de7-48a0-d68c-49eded73b1c2"
      },
      "id": "9a53d79c"
    },
    {
      "cell_type": "code",
      "source": [
        "# plotting empirical loss as a function of iterations\n",
        "print(\"Empirical loss as a function of iterations: \\n\")\n",
        "plt.plot(range(1, len(model1.losses) + 1), model1.losses)\n",
        "plt.xlabel(\"Iteraions\")\n",
        "plt.ylabel(\"Predictions\")"
      ],
      "outputs": [
        {
          "output_type": "stream",
          "name": "stdout",
          "text": "Empirical loss as a function of iterations: \n\n"
        },
        {
          "output_type": "execute_result",
          "execution_count": 6,
          "data": {
            "text/plain": "Text(0, 0.5, 'Predictions')"
          },
          "metadata": {}
        },
        {
          "output_type": "display_data",
          "data": {
            "text/plain": "<Figure size 640x480 with 1 Axes>",
            "image/png": "[encoded data removed]"
          },
          "metadata": {}
        }
      ],
      "execution_count": 6,
      "metadata": {
        "colab": {
          "base_uri": "https://localhost:8080/",
          "height": 501
        },
        "id": "1048042a",
        "outputId": "647eba5b-e9dc-4c0b-cd66-b2fb32eb6891"
      },
      "id": "1048042a"
    },
    {
      "cell_type": "code",
      "source": [
        "# calculating the R2 score using the custom function\n",
        "from sklearn import linear_model\n",
        "from sklearn.metrics import mean_squared_error, r2_score\n",
        "def my_r2_score(y_test, y_pred):\n",
        "    mean_true = np.mean(y_test)\n",
        "    residual = np.sum((y_test - y_pred) ** 2)\n",
        "    total_variance = np.sum((y_test - mean_true) ** 2)\n",
        "    return (1 - (residual/total_variance))\n",
        "\n",
        "print(\"R2 score using the custom made function: \",my_r2_score(y_test, model1.predict(x_test)))"
      ],
      "outputs": [
        {
          "output_type": "stream",
          "name": "stdout",
          "text": "R2 score using the custom made function:  0    0.512226\ndtype: float64\n"
        },
        {
          "output_type": "stream",
          "name": "stderr",
          "text": "/usr/local/lib/python3.10/dist-packages/numpy/core/fromnumeric.py:3430: FutureWarning: In a future version, DataFrame.mean(axis=None) will return a scalar mean over the entire DataFrame. To retain the old behavior, use 'frame.mean(axis=0)' or just 'frame.mean()'\n  return mean(axis=axis, dtype=dtype, out=out, **kwargs)\n"
        }
      ],
      "execution_count": 7,
      "metadata": {
        "colab": {
          "base_uri": "https://localhost:8080/",
          "height": 0
        },
        "id": "038b16d6",
        "outputId": "202f7272-4e6c-4e9e-cea3-cce2d5c2eaa2"
      },
      "id": "038b16d6"
    },
    {
      "cell_type": "code",
      "source": [
        "# plot actual vs predicted values - my model on test data\n",
        "plt.scatter(y_test,model1.predict(x_test))"
      ],
      "outputs": [
        {
          "output_type": "execute_result",
          "execution_count": 8,
          "data": {
            "text/plain": "<matplotlib.collections.PathCollection at 0x7d9bfb8c7eb0>"
          },
          "metadata": {}
        },
        {
          "output_type": "display_data",
          "data": {
            "text/plain": "<Figure size 640x480 with 1 Axes>",
            "image/png": "[encoded data removed]"
          },
          "metadata": {}
        }
      ],
      "execution_count": 8,
      "metadata": {
        "colab": {
          "base_uri": "https://localhost:8080/",
          "height": 447
        },
        "id": "5VGeCs7lUeve",
        "outputId": "a745a809-d7c4-4977-b91c-08390f132787"
      },
      "id": "5VGeCs7lUeve"
    },
    {
      "cell_type": "code",
      "source": [
        "# applying the built-in linear algebra class\n",
        "lr_skmodel = linear_model.LinearRegression()\n",
        "lr_skmodel.fit(x_train,y_train)\n",
        "y_pred = lr_skmodel.predict(x_test)\n",
        "print('MSE:',mean_squared_error(y_pred,y_test))\n",
        "r2 = r2_score(y_test, y_pred)\n",
        "print(\"R2 score: \", r2)\n",
        "# plot actual vs predicted values-built in\n",
        "plt.scatter(y_test,y_pred)"
      ],
      "outputs": [
        {
          "output_type": "stream",
          "name": "stdout",
          "text": "MSE: 2911.811886119178\nR2 score:  0.5341988244945841\n"
        },
        {
          "output_type": "execute_result",
          "execution_count": 9,
          "data": {
            "text/plain": "<matplotlib.collections.PathCollection at 0x7d9bfb6281c0>"
          },
          "metadata": {}
        },
        {
          "output_type": "display_data",
          "data": {
            "text/plain": "<Figure size 640x480 with 1 Axes>",
            "image/png": "[encoded data removed]"
          },
          "metadata": {}
        }
      ],
      "execution_count": 9,
      "metadata": {
        "colab": {
          "base_uri": "https://localhost:8080/",
          "height": 485
        },
        "id": "ea92db59",
        "outputId": "eb352cd4-e899-4ecd-d027-d7fd83dd0dad",
        "scrolled": true
      },
      "id": "ea92db59"
    },
    {
      "cell_type": "code",
      "source": [
        "# linear regression direct solution\n",
        "weights = np.linalg.solve(np.dot(x_train.T, x_train), np.dot(x_train.T, y_train))\n",
        "y_pred_direct = np.dot(x_test, weights)\n",
        "\n",
        "# evaluate performance using scikit-learn's r2_score\n",
        "r2_direct = r2_score(y_test, y_pred_direct)\n",
        "print('R2 score using direct solution:', r2_direct)\n"
      ],
      "outputs": [
        {
          "output_type": "stream",
          "name": "stdout",
          "text": "R2 score using direct solution: -3.245396805111902\n"
        }
      ],
      "execution_count": 10,
      "metadata": {
        "colab": {
          "base_uri": "https://localhost:8080/",
          "height": 0
        },
        "id": "55815567",
        "outputId": "8a41889b-69b3-425a-e258-d411922e23d3"
      },
      "id": "55815567"
    },
    {
      "cell_type": "code",
      "source": [
        "from sklearn.linear_model import LinearRegression\n",
        "from sklearn.preprocessing import PolynomialFeatures\n",
        "\n",
        "\n",
        "# fit a linear regression model\n",
        "\n",
        "\n",
        "# train data\n",
        "degrees = [2, 3, 4, 5, 6, 7, 8, 9]\n",
        "for degree in degrees:\n",
        "  poly_reg = PolynomialFeatures(degree=degree)\n",
        "  X_poly_train = poly_reg.fit_transform(x_train)\n",
        "  lin_reg_model = LinearRegression()\n",
        "  lin_reg_model.fit(X_poly_train, y_train)\n",
        "  y_pred_poly = lin_reg_model.predict(X_poly_train)\n",
        "  #calculating the R2 score for the current model\n",
        "  r2 = r2_score(y_train, y_pred_poly)\n",
        "  print(f\"Polynomial model degree {degree}      R2 score:{r2}\")\n"
      ],
      "outputs": [
        {
          "output_type": "stream",
          "name": "stdout",
          "text": "Polynomial model degree 2      R2 score:0.6160179375256238\nPolynomial model degree 3      R2 score:0.28504644928138667\nPolynomial model degree 4      R2 score:1.0\nPolynomial model degree 5      R2 score:1.0\nPolynomial model degree 6      R2 score:1.0\nPolynomial model degree 7      R2 score:1.0\nPolynomial model degree 8      R2 score:1.0\nPolynomial model degree 9      R2 score:1.0\n"
        }
      ],
      "execution_count": 11,
      "metadata": {
        "colab": {
          "base_uri": "https://localhost:8080/",
          "height": 0
        },
        "id": "809783cb",
        "outputId": "f302ccbe-3ad3-46ea-dfc2-33c25d9a49a6"
      },
      "id": "809783cb"
    },
    {
      "cell_type": "code",
      "source": [],
      "outputs": [],
      "execution_count": 11,
      "metadata": {
        "id": "96b06417"
      },
      "id": "96b06417"
    },
    {
      "cell_type": "code",
      "source": [],
      "outputs": [],
      "execution_count": 11,
      "metadata": {
        "id": "4f2bd2aa"
      },
      "id": "4f2bd2aa"
    },
    {
      "cell_type": "code",
      "source": [],
      "outputs": [],
      "execution_count": 11,
      "metadata": {
        "id": "b07f2f18"
      },
      "id": "b07f2f18"
    }
  ],
  "metadata": {
    "colab": {
      "provenance": []
    },
    "kernelspec": {
      "name": "python",
      "language": "python",
      "display_name": "Pyolite (preview)"
    },
    "language_info": {
      "codemirror_mode": {
        "name": "python",
        "version": 3
      },
      "file_extension": ".py",
      "mimetype": "text/x-python",
      "name": "python",
      "nbconvert_exporter": "python",
      "pygments_lexer": "ipython3",
      "version": "3.8"
    },
    "kernel_info": {
      "name": "python"
    },
    "nteract": {
      "version": "nteract-front-end@1.0.0"
    }
  },
  "nbformat": 4,
  "nbformat_minor": 5
}